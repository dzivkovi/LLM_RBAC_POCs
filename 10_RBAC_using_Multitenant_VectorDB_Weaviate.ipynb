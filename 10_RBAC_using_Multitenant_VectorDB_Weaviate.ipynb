{
  "cells": [
    {
      "cell_type": "markdown",
      "metadata": {
        "id": "view-in-github",
        "colab_type": "text"
      },
      "source": [
        "<a href=\"https://colab.research.google.com/github/dzivkovi/LLM_RBAC_experiments/blob/main/10_RBAC_using_Multitenant_VectorDB_Weaviate.ipynb\" target=\"_parent\"><img src=\"https://colab.research.google.com/assets/colab-badge.svg\" alt=\"Open In Colab\"/></a>"
      ]
    },
    {
      "cell_type": "markdown",
      "metadata": {
        "id": "lGDGl8byOlTA"
      },
      "source": [
        "# Multi-Tenancy in Weaviate\n",
        "\n",
        "### Inspired by: https://www.youtube.com/watch?v=KT2RFMTJKGs\n",
        "\n",
        "Welcome to this demo notebook! Here, we'll walk you through a small example showcasing the `Multi-Tenancy` function in Weaviate.\n",
        "Multi-tenancy is a key feature in Weaviate, allowing for the efficient and secure management of data across multiple users or tenants.\n",
        "\n",
        "## 📖 Further Reading:\n",
        "\n",
        "- Explore the concept in depth in the [multi-tenancy blog post](https://weaviate.io/blog/multi-tenancy-vector-search).\n",
        "- Dive into the technical details in our [Weaviate developer documentation](https://weaviate.io/developers/weaviate/manage-data/multi-tenancy#enable-multitenancy).\n",
        "\n",
        "## Getting started\n",
        "Before we dive in, there are a few preliminary steps:\n",
        "\n",
        "1. Set Up a Weaviate Cluster:\n",
        "This notebook requires a working Weaviate cluster. If you don't have one, fret not! You can set up a free sandbox Weaviate cluster by following our [comprehensive guide](https://weaviate.io/developers/academy/zero_to_mvp/hello_weaviate/set_up).\n",
        "\n",
        "2. Virtual Environment and Dependencies:\n",
        "To ensure smooth execution and prevent potential conflicts with your global Python environment, we recommend running the code in a virtual environment. Later in this notebook, we'll guide you through setting up this environment and installing the necessary dependencies.\n",
        "\n",
        "With these points in mind, let's get started:"
      ]
    },
    {
      "cell_type": "code",
      "execution_count": null,
      "metadata": {
        "colab": {
          "base_uri": "https://localhost:8080/"
        },
        "id": "c7M467lTOlTG",
        "outputId": "81a0b96f-abdf-4721-9935-802e6365fd8f"
      },
      "outputs": [
        {
          "output_type": "stream",
          "name": "stdout",
          "text": [
            "Requirement already satisfied: weaviate-client in /usr/local/lib/python3.10/dist-packages (3.26.0)\n",
            "Requirement already satisfied: requests<3.0.0,>=2.30.0 in /usr/local/lib/python3.10/dist-packages (from weaviate-client) (2.31.0)\n",
            "Requirement already satisfied: validators<1.0.0,>=0.21.2 in /usr/local/lib/python3.10/dist-packages (from weaviate-client) (0.22.0)\n",
            "Requirement already satisfied: authlib<2.0.0,>=1.2.1 in /usr/local/lib/python3.10/dist-packages (from weaviate-client) (1.3.0)\n",
            "Requirement already satisfied: cryptography in /usr/local/lib/python3.10/dist-packages (from authlib<2.0.0,>=1.2.1->weaviate-client) (41.0.7)\n",
            "Requirement already satisfied: charset-normalizer<4,>=2 in /usr/local/lib/python3.10/dist-packages (from requests<3.0.0,>=2.30.0->weaviate-client) (3.3.2)\n",
            "Requirement already satisfied: idna<4,>=2.5 in /usr/local/lib/python3.10/dist-packages (from requests<3.0.0,>=2.30.0->weaviate-client) (3.6)\n",
            "Requirement already satisfied: urllib3<3,>=1.21.1 in /usr/local/lib/python3.10/dist-packages (from requests<3.0.0,>=2.30.0->weaviate-client) (2.0.7)\n",
            "Requirement already satisfied: certifi>=2017.4.17 in /usr/local/lib/python3.10/dist-packages (from requests<3.0.0,>=2.30.0->weaviate-client) (2023.11.17)\n",
            "Requirement already satisfied: cffi>=1.12 in /usr/local/lib/python3.10/dist-packages (from cryptography->authlib<2.0.0,>=1.2.1->weaviate-client) (1.16.0)\n",
            "Requirement already satisfied: pycparser in /usr/local/lib/python3.10/dist-packages (from cffi>=1.12->cryptography->authlib<2.0.0,>=1.2.1->weaviate-client) (2.21)\n"
          ]
        }
      ],
      "source": [
        "!pip install weaviate-client"
      ]
    },
    {
      "cell_type": "markdown",
      "metadata": {
        "id": "0TTdKdp8OlTI"
      },
      "source": [
        "## Connecting to Your Weaviate Cluster\n",
        "\n",
        "To interact with our Weaviate cluster, we'll initialize a client object. Once set up, we'll retrieve the current schemas as a way to verify the connection. Since the cluster is newly created, we expect that no schemas will be present."
      ]
    },
    {
      "cell_type": "code",
      "execution_count": null,
      "metadata": {
        "colab": {
          "base_uri": "https://localhost:8080/"
        },
        "id": "EYsADoMXOlTI",
        "outputId": "73562f44-ae60-4dc1-ac79-0e9e0de601bb"
      },
      "outputs": [
        {
          "output_type": "stream",
          "name": "stdout",
          "text": [
            "True\n"
          ]
        }
      ],
      "source": [
        "import weaviate\n",
        "from google.colab import userdata\n",
        "\n",
        "client = weaviate.Client(\n",
        "  url=\"https://multi-tenancy-og68lbsz.weaviate.network\",  # URL of your Weaviate instance\n",
        "  additional_headers={\n",
        "    \"X-OPENAI-Api-Key\": userdata.get('OPENAI_API_KEY'), # Replace with your OpenAI key\n",
        "  }\n",
        ")\n",
        "\n",
        "client.schema.delete_all() # Delete all data\n",
        "is_valid = len(client.schema.get()[\"classes\"]) == 0\n",
        "print(is_valid)"
      ]
    },
    {
      "cell_type": "code",
      "source": [
        "client.schema.get()  # Get the schema to test connection"
      ],
      "metadata": {
        "colab": {
          "base_uri": "https://localhost:8080/"
        },
        "id": "Lj1N0YCjQXuP",
        "outputId": "516fb5f5-abf2-4404-fe32-194c8ade8b8a"
      },
      "execution_count": null,
      "outputs": [
        {
          "output_type": "execute_result",
          "data": {
            "text/plain": [
              "{'classes': []}"
            ]
          },
          "metadata": {},
          "execution_count": 31
        }
      ]
    },
    {
      "cell_type": "markdown",
      "metadata": {
        "id": "euY0j1NbOlTJ"
      },
      "source": [
        "## Setting Up Multi-Tenancy in a Weaviate Class\n",
        "\n",
        "In Weaviate, multi-tenancy allows for multiple tenants to securely access and manage data within the same schema. Let's proceed to define a new class that utilizes this feature:\n",
        "\n",
        "### Define a Multi-Tenancy Enabled Class:\n",
        "We'll start by creating a class named 'MultiTenancyClass' with the multi-tenancy feature activated."
      ]
    },
    {
      "cell_type": "code",
      "execution_count": null,
      "metadata": {
        "id": "moYliMacOlTK"
      },
      "outputs": [],
      "source": [
        "from weaviate import Tenant\n",
        "\n",
        "client.schema.create_class({\n",
        "    'class': 'MultiTenancyClass',\n",
        "    'multiTenancyConfig': {'enabled': True}\n",
        "})"
      ]
    },
    {
      "cell_type": "code",
      "source": [
        "client.schema.get()  # Get the schema to test connection"
      ],
      "metadata": {
        "colab": {
          "base_uri": "https://localhost:8080/"
        },
        "outputId": "b455a8b5-e5b1-4921-ea50-b00c257f984d",
        "id": "txfIcQEiQqyD"
      },
      "execution_count": null,
      "outputs": [
        {
          "output_type": "execute_result",
          "data": {
            "text/plain": [
              "{'classes': [{'class': 'MultiTenancyClass',\n",
              "   'invertedIndexConfig': {'bm25': {'b': 0.75, 'k1': 1.2},\n",
              "    'cleanupIntervalSeconds': 60,\n",
              "    'stopwords': {'additions': None, 'preset': 'en', 'removals': None}},\n",
              "   'multiTenancyConfig': {'enabled': True},\n",
              "   'properties': [],\n",
              "   'replicationConfig': {'factor': 1},\n",
              "   'shardingConfig': {'virtualPerPhysical': 0,\n",
              "    'desiredCount': 0,\n",
              "    'actualCount': 0,\n",
              "    'desiredVirtualCount': 0,\n",
              "    'actualVirtualCount': 0,\n",
              "    'key': '',\n",
              "    'strategy': '',\n",
              "    'function': ''},\n",
              "   'vectorIndexConfig': {'skip': False,\n",
              "    'cleanupIntervalSeconds': 300,\n",
              "    'maxConnections': 64,\n",
              "    'efConstruction': 128,\n",
              "    'ef': -1,\n",
              "    'dynamicEfMin': 100,\n",
              "    'dynamicEfMax': 500,\n",
              "    'dynamicEfFactor': 8,\n",
              "    'vectorCacheMaxObjects': 1000000000000,\n",
              "    'flatSearchCutoff': 40000,\n",
              "    'distance': 'cosine',\n",
              "    'pq': {'enabled': False,\n",
              "     'bitCompression': False,\n",
              "     'segments': 0,\n",
              "     'centroids': 256,\n",
              "     'trainingLimit': 100000,\n",
              "     'encoder': {'type': 'kmeans', 'distribution': 'log-normal'}}},\n",
              "   'vectorIndexType': 'hnsw',\n",
              "   'vectorizer': 'none'}]}"
            ]
          },
          "metadata": {},
          "execution_count": 33
        }
      ]
    },
    {
      "cell_type": "markdown",
      "metadata": {
        "id": "KVuDnEb2OlTL"
      },
      "source": [
        "### Add Multiple Tenants to the Class:\n",
        "After establishing the class, we'll associate it with two tenants: 'tenantA' and 'tenantB'"
      ]
    },
    {
      "cell_type": "code",
      "execution_count": null,
      "metadata": {
        "id": "Z2wu0V8kOlTL"
      },
      "outputs": [],
      "source": [
        "client.schema.add_class_tenants(\n",
        "  class_name='MultiTenancyClass',  # The class to which the tenants will be added\n",
        "  tenants=[Tenant(name='tenantA'), Tenant(name='tenantB')]\n",
        ")"
      ]
    },
    {
      "cell_type": "markdown",
      "metadata": {
        "id": "rv7bNsxnOlTM"
      },
      "source": [
        "## Fetching Tenants from a Weaviate Class\n",
        "\n",
        "To view the tenants associated with a specific class, we can retrieve a list of all the tenants linked to it. Let's do this for our previously created class, 'MultiTenancyClass':"
      ]
    },
    {
      "cell_type": "code",
      "execution_count": null,
      "metadata": {
        "colab": {
          "base_uri": "https://localhost:8080/"
        },
        "id": "fqvSin5-OlTM",
        "outputId": "935eb1c5-762d-44ef-8ea2-0b415d7390b2"
      },
      "outputs": [
        {
          "output_type": "stream",
          "name": "stdout",
          "text": [
            "[Tenant(name='tenantA', activity_status=<TenantActivityStatus.HOT: 'HOT'>), Tenant(name='tenantB', activity_status=<TenantActivityStatus.HOT: 'HOT'>)]\n",
            "True\n"
          ]
        }
      ],
      "source": [
        "tenants = client.schema.get_class_tenants(\n",
        "    class_name='MultiTenancyClass'  # The class from which the tenants will be retrieved\n",
        ")\n",
        "\n",
        "print(tenants)\n",
        "is_valid = len(tenants) == 2\n",
        "print(is_valid)"
      ]
    },
    {
      "cell_type": "markdown",
      "metadata": {
        "id": "2b96XFyvOlTM"
      },
      "source": [
        "## Assigning Data Objects to Specific Tenants\n",
        "\n",
        "In Weaviate, data objects can be associated with specific tenants in a multi-tenancy enabled class. Here, we will demonstrate how to create data objects and link them to their respective tenants:"
      ]
    },
    {
      "cell_type": "code",
      "execution_count": null,
      "metadata": {
        "id": "222Rhwz9OlTM"
      },
      "outputs": [],
      "source": [
        "object_a = client.data_object.create(\n",
        "      class_name='MultiTenancyClass',  # The class to which the object will be added\n",
        "      data_object={\n",
        "          'text': 'This belongs to TenantA'\n",
        "      },\n",
        "      tenant='tenantA'  # The tenant to which the object will be added\n",
        ")\n",
        "\n",
        "# First object\n",
        "object_b_1 = client.data_object.create(\n",
        "      class_name='MultiTenancyClass',\n",
        "      data_object={\n",
        "          'text': 'This belongs to TenantB'\n",
        "      },\n",
        "      tenant='tenantB'\n",
        ")\n",
        "\n",
        "# Second object\n",
        "object_b_2 = client.data_object.create(\n",
        "      class_name='MultiTenancyClass',\n",
        "      data_object={\n",
        "          'text': 'This also belongs to TenantB'\n",
        "      },\n",
        "      tenant='tenantB'\n",
        ")"
      ]
    },
    {
      "cell_type": "markdown",
      "metadata": {
        "id": "ZLSVFWPpOlTN"
      },
      "source": [
        "## Performing Tenant-Specific Queries\n",
        "\n",
        "By leveraging the multi-tenancy functionality, we can conduct queries that are specific to individual tenants. This enables us to fetch data solely associated with a designated tenant."
      ]
    },
    {
      "cell_type": "code",
      "execution_count": null,
      "metadata": {
        "colab": {
          "base_uri": "https://localhost:8080/"
        },
        "id": "QxLRk3Z3OlTN",
        "outputId": "d62ce511-6439-4e75-fc66-06997215a969"
      },
      "outputs": [
        {
          "output_type": "stream",
          "name": "stdout",
          "text": [
            "TenantA: [{'text': 'This belongs to TenantA'}]\n",
            "TenantB: [{'text': 'This also belongs to TenantB'}, {'text': 'This belongs to TenantB'}]\n",
            "True\n"
          ]
        }
      ],
      "source": [
        "result_a = (\n",
        "    client.query.get('MultiTenancyClass', ['text'])\n",
        "    .with_tenant('tenantA')\n",
        "    .do()\n",
        ")\n",
        "\n",
        "result_b = (\n",
        "    client.query.get('MultiTenancyClass', ['text'])\n",
        "    .with_tenant('tenantB')\n",
        "    .do()\n",
        ")\n",
        "\n",
        "print(f\"TenantA: {result_a['data']['Get']['MultiTenancyClass']}\")\n",
        "print(f\"TenantB: {result_b['data']['Get']['MultiTenancyClass']}\")\n",
        "\n",
        "is_valid = len(result_a[\"data\"][\"Get\"][\"MultiTenancyClass\"]) == 1 and len(result_b[\"data\"][\"Get\"][\"MultiTenancyClass\"]) == 2\n",
        "print(is_valid)\n"
      ]
    },
    {
      "cell_type": "markdown",
      "metadata": {
        "id": "41isuR_eOlTN"
      },
      "source": [
        "## Removing Tenants from a Weaviate Class\n",
        "\n",
        "In situations where specific tenants are no longer required, Weaviate allows us to remove them from a class. This action will only affect the specified tenants, leaving other associated tenants unaffected."
      ]
    },
    {
      "cell_type": "code",
      "execution_count": null,
      "metadata": {
        "colab": {
          "base_uri": "https://localhost:8080/"
        },
        "id": "2GEVVCunOlTN",
        "outputId": "3b96d71e-f3ab-4691-a811-29282f094d2f"
      },
      "outputs": [
        {
          "output_type": "stream",
          "name": "stdout",
          "text": [
            "[Tenant(name='tenantA', activity_status=<TenantActivityStatus.HOT: 'HOT'>)]\n",
            "True\n"
          ]
        }
      ],
      "source": [
        "client.schema.remove_class_tenants(\n",
        "    class_name='MultiTenancyClass',  # The class from which the tenants will be removed\n",
        "    tenants=['tenantB', 'tenantX']  # The tenants to be removed. tenantX will be ignored.\n",
        ")\n",
        "\n",
        "tenants = client.schema.get_class_tenants(\n",
        "    class_name='MultiTenancyClass'  # The class from which the tenants will be retrieved\n",
        ")\n",
        "\n",
        "print(tenants)\n",
        "is_valid = len(tenants) == 1\n",
        "print(is_valid)"
      ]
    }
  ],
  "metadata": {
    "kernelspec": {
      "display_name": "Python 3",
      "language": "python",
      "name": "python3"
    },
    "language_info": {
      "codemirror_mode": {
        "name": "ipython",
        "version": 3
      },
      "file_extension": ".py",
      "mimetype": "text/x-python",
      "name": "python",
      "nbconvert_exporter": "python",
      "pygments_lexer": "ipython3",
      "version": "3.10.11"
    },
    "orig_nbformat": 4,
    "colab": {
      "provenance": [],
      "include_colab_link": true
    }
  },
  "nbformat": 4,
  "nbformat_minor": 0
}